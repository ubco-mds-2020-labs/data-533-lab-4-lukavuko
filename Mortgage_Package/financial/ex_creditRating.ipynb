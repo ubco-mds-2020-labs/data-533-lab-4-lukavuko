{
 "metadata": {
  "language_info": {
   "codemirror_mode": {
    "name": "ipython",
    "version": 3
   },
   "file_extension": ".py",
   "mimetype": "text/x-python",
   "name": "python",
   "nbconvert_exporter": "python",
   "pygments_lexer": "ipython3",
   "version": "3.8.3-final"
  },
  "orig_nbformat": 2,
  "kernelspec": {
   "name": "python3",
   "display_name": "Python 3",
   "language": "python"
  }
 },
 "nbformat": 4,
 "nbformat_minor": 2,
 "cells": [
  {
   "cell_type": "code",
   "execution_count": 12,
   "metadata": {},
   "outputs": [],
   "source": [
    "class residenceError(Exception):\n",
    "    def __init__(self):\n",
    "        print(\"Determine if current residence status is 'own' or 'rent'.\")\n",
    "\n",
    "class incomeError(Exception):\n",
    "    def __init__(self):\n",
    "        print(\"Income is too low to be considered for a credit rating.\")\n",
    "\n",
    "#class 1 - converts client's information into score\n",
    "class creditRating:\n",
    "    \"\"\"\n",
    "    A class used to convert home buyer's financial characteristics into individual credit score components\n",
    "    \n",
    "    ...\n",
    "\n",
    "    Attributes\n",
    "    ----------\n",
    "    age : int\n",
    "        home buyer's age in years\n",
    "    home : str\n",
    "        home buyer's current residence status; own or rent\n",
    "    income : int\n",
    "        home buyer's annual income\n",
    "    score_age : int\n",
    "        points awarded to credit score based on home buyer's age\n",
    "    score_home : int\n",
    "        points awarded to credit score based on home buyer's current residence status\n",
    "    score_income : int\n",
    "        points awarded to credit score based on home buyer's annual income\n",
    "\n",
    "    Methods\n",
    "    -------\n",
    "    convert_age()\n",
    "        converts home buyer's age into points based on 7 possible age ranges\n",
    "    convert_home()\n",
    "        converts home buyer's current residence status into points based on 2 possible residence statuses\n",
    "    convert_income()\n",
    "        converts home buyer's annual income into points based on 6 possible annual income ranges\n",
    "\n",
    "    \"\"\"\n",
    "    \n",
    "    score_age = 0\n",
    "    score_home = 0\n",
    "    score_income = 0\n",
    "\n",
    "    def __init__(self, age, home, income):\n",
    "        \"\"\"\n",
    "        Arguments\n",
    "        ---------\n",
    "        age : int\n",
    "        home : int\n",
    "        income : int\n",
    "        \"\"\"\n",
    "        \n",
    "        self.age = age\n",
    "        self.home = home\n",
    "        self.income = income\n",
    "        \n",
    "\n",
    "    def convert_age(self): #works\n",
    "        \"\"\"\n",
    "        Returns age score, converting home buyer's age into points after comparing 7 possible age ranges\n",
    "        \"\"\"\n",
    "        \n",
    "        try:\n",
    "            if self.age < 22:\n",
    "                score_age = 100\n",
    "            elif self.age < 26:\n",
    "                score_age = 120\n",
    "            elif self.age < 29:\n",
    "                score_age = 185\n",
    "            elif self.age < 32:\n",
    "                score_age = 200\n",
    "            elif self.age < 37:\n",
    "                score_age = 210\n",
    "            elif self.age < 42:\n",
    "                score_age = 225\n",
    "            else:\n",
    "                score_age = 250\n",
    "        \n",
    "            return score_age\n",
    "        \n",
    "        except TypeError:\n",
    "            print(\"Invalid age input. Age input must be of type numeric.\")\n",
    "            return None\n",
    "    \n",
    "    def convert_home(self): #works\n",
    "        \"\"\"\n",
    "        Returns home score, converting home buyer's current residence status into points depending on if they own \n",
    "    or rent\n",
    "        \"\"\"\n",
    "\n",
    "        try:\n",
    "            if self.home.lower() == \"own\":\n",
    "                score_home = 225\n",
    "            elif self.home.lower() == \"rent\":\n",
    "                score_home = 100\n",
    "            else:\n",
    "                raise residenceError\n",
    "                #print(\"Please choose between 'own' or 'rent'.\")\n",
    "        \n",
    "            return score_home\n",
    "        \n",
    "        except residenceError:\n",
    "            print(\"Please input either 'own' or 'rent'.\")\n",
    "            return None\n",
    "\n",
    "    def convert_income(self): #works\n",
    "        \"\"\"\n",
    "        Returns income score, converting home buyer's annual income into points after comparing 6 possible income ranges\n",
    "        \"\"\"\n",
    "\n",
    "        try:\n",
    "            if self.income < 10000:\n",
    "                raise incomeError\n",
    "            elif self.income >= 10000 and self.income < 17000:\n",
    "                score_income = 140\n",
    "            elif self.income >= 17000 and self.income < 26000:\n",
    "                score_income = 180\n",
    "            elif self.income >= 26000 and self.income < 35000:\n",
    "                score_income = 200\n",
    "            elif self.income >= 35000 and self.income < 42000:\n",
    "                score_income = 225\n",
    "            elif self.income >= 42000 and self.income < 58000:\n",
    "                score_income = 230\n",
    "            elif self.income >= 58000:\n",
    "                score_income = 260\n",
    "\n",
    "            return score_income\n",
    "\n",
    "        except incomeError:\n",
    "            print(\"Inputted salary is too low to be considered for a credit rating\")\n",
    "            return None\n",
    "\n",
    "        except TypeError:\n",
    "            print(\"Invalid salary input. Salary input must be of type numeric.\")\n",
    "            return None\n"
   ]
  },
  {
   "cell_type": "code",
   "execution_count": 13,
   "metadata": {},
   "outputs": [],
   "source": [
    "def score(buyer):\n",
    "    \"\"\"\n",
    "    Prints calculated score with decision of loan approval.\n",
    "    Calculates credit score with individual component scores from class creditRating to determine loan approval.\n",
    "    ...\n",
    "    \n",
    "    Argument\n",
    "    --------\n",
    "    buyer : object\n",
    "        object from class creditRating\n",
    "\n",
    "    Return\n",
    "    ---------\n",
    "    score : int\n",
    "        sum of component scores age + home + income\n",
    "    \"\"\"\n",
    "\n",
    "    score = buyer.convert_age() + buyer.convert_home() + buyer.convert_income()\n",
    "\n",
    "    try:\n",
    "        if score >= 500:\n",
    "            print(\"Credit Score: {}. Approved for loan.\".format(score))\n",
    "        else:\n",
    "            print(\"Credit Score: {}. Not approved for loan.\".format(score))\n",
    "\n",
    "        return score\n",
    "\n",
    "    except NameError:\n",
    "        print(\"Invalid buyer name. Input correct buyer name.\")\n",
    "        return None"
   ]
  },
  {
   "cell_type": "code",
   "execution_count": 14,
   "metadata": {},
   "outputs": [],
   "source": [
    "buyer_credit_rating = creditRating(20, \"OWN\", 60000)"
   ]
  },
  {
   "cell_type": "code",
   "execution_count": 15,
   "metadata": {},
   "outputs": [
    {
     "output_type": "execute_result",
     "data": {
      "text/plain": [
       "100"
      ]
     },
     "metadata": {},
     "execution_count": 15
    }
   ],
   "source": [
    "buyer_credit_rating.convert_age()"
   ]
  },
  {
   "cell_type": "code",
   "execution_count": 16,
   "metadata": {},
   "outputs": [
    {
     "output_type": "execute_result",
     "data": {
      "text/plain": [
       "225"
      ]
     },
     "metadata": {},
     "execution_count": 16
    }
   ],
   "source": [
    "buyer_credit_rating.convert_home()"
   ]
  },
  {
   "cell_type": "code",
   "execution_count": 17,
   "metadata": {},
   "outputs": [
    {
     "output_type": "execute_result",
     "data": {
      "text/plain": [
       "260"
      ]
     },
     "metadata": {},
     "execution_count": 17
    }
   ],
   "source": [
    "buyer_credit_rating.convert_income()"
   ]
  },
  {
   "cell_type": "code",
   "execution_count": 18,
   "metadata": {},
   "outputs": [
    {
     "output_type": "stream",
     "name": "stdout",
     "text": [
      "Credit Score: 585. Approved for loan.\n"
     ]
    },
    {
     "output_type": "execute_result",
     "data": {
      "text/plain": [
       "585"
      ]
     },
     "metadata": {},
     "execution_count": 18
    }
   ],
   "source": [
    "score(buyer_credit_rating)"
   ]
  },
  {
   "cell_type": "code",
   "execution_count": null,
   "metadata": {},
   "outputs": [],
   "source": []
  },
  {
   "cell_type": "code",
   "execution_count": null,
   "metadata": {},
   "outputs": [],
   "source": []
  }
 ]
}