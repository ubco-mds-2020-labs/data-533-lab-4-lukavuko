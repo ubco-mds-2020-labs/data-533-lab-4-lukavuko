{
 "cells": [
  {
   "cell_type": "code",
   "execution_count": 3,
   "metadata": {},
   "outputs": [],
   "source": [
    "class mortgageError(Exception):\n",
    "    '''Mortgage subpackage custom exception class.'''\n",
    "    pass\n",
    "\n",
    "class FilterInputError(mortgageError):\n",
    "    '''Raised when property filter receives a non dataframe object'''\n",
    "    pass\n",
    "\n",
    "class FormatError(mortgageError):\n",
    "    '''Raised when a function's input has an improper format'''\n",
    "    pass\n",
    "\n",
    "class TermError(mortgageError):\n",
    "    '''Raised if term length is is unavailable. Terms must range from (1,10) years.'''\n",
    "    pass\n",
    "\n",
    "class PovertyError(mortgageError):\n",
    "    '''Raised when downpayment input value is too low to be legally considered'''\n",
    "    pass"
   ]
  }
 ],
 "metadata": {
  "kernelspec": {
   "display_name": "Python 3",
   "language": "python",
   "name": "python3"
  },
  "language_info": {
   "codemirror_mode": {
    "name": "ipython",
    "version": 3
   },
   "file_extension": ".py",
   "mimetype": "text/x-python",
   "name": "python",
   "nbconvert_exporter": "python",
   "pygments_lexer": "ipython3",
   "version": "3.8.3"
  }
 },
 "nbformat": 4,
 "nbformat_minor": 4
}
